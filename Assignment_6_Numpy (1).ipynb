{
  "nbformat": 4,
  "nbformat_minor": 0,
  "metadata": {
    "colab": {
      "provenance": []
    },
    "kernelspec": {
      "name": "python3",
      "display_name": "Python 3"
    },
    "language_info": {
      "name": "python"
    }
  },
  "cells": [
    {
      "cell_type": "markdown",
      "source": [
        "1. 1. Explain the purpose and advantages of NumPy in scientific computing and data analysis. How does it enhance Python's capabilities for numerical operations?"
      ],
      "metadata": {
        "id": "pwPRZt2i8gwA"
      }
    },
    {
      "cell_type": "markdown",
      "source": [
        "NumPy, short for Numerical Python, is a foundational library in Python that greatly enhances Python’s capabilities in scientific computing and data analysis. Its purpose is to provide a powerful array-processing package that efficiently handles large datasets, allowing users to perform numerical operations quickly and effectively. Here’s a breakdown of how and why it’s so valuable:"
      ],
      "metadata": {
        "id": "910rtUUS8094"
      }
    },
    {
      "cell_type": "code",
      "source": [
        "Purpose of NumPy"
      ],
      "metadata": {
        "id": "A3uo3B4P83Sx"
      },
      "execution_count": null,
      "outputs": []
    },
    {
      "cell_type": "code",
      "execution_count": null,
      "metadata": {
        "id": "RBiaRO1A8KCr"
      },
      "outputs": [],
      "source": [
        "1) Efficient Array Operations: NumPy introduces the ndarray (N-dimensional array), which can represent large, multi-dimensional arrays and matrices.\n",
        "   This object allows for fast and space-efficient operations on large datasets, which is ideal for scientific and numerical computations.\n",
        "\n",
        "2) Mathematical and Statistical Functions: It includes a comprehensive collection of mathematical functions for linear algebra, Fourier transforms,\n",
        "   and random number generation, making it well-suited for scientific tasks.\n",
        "\n",
        "3) Integration with Other Libraries: Many other scientific libraries, such as SciPy, pandas, and scikit-learn, build on or integrate with NumPy, making it an essential component in the broader Python ecosystem for data science.\n"
      ]
    },
    {
      "cell_type": "code",
      "source": [
        "Advantages of NumPy in Scientific Computing and Data Analysis"
      ],
      "metadata": {
        "id": "dUBE7Fkb9EiS"
      },
      "execution_count": null,
      "outputs": []
    },
    {
      "cell_type": "code",
      "source": [
        "1) Performance: NumPy's operations are implemented in C and Fortran, which makes it much faster than Python’s built-in lists for large datasets.\n",
        "It allows vectorized operations, which means operations are performed on entire arrays rather than individual elements, greatly enhancing speed.\n",
        "\n",
        "2) Memory Efficiency: The ndarray structure uses less memory than standard Python lists. It stores data in contiguous memory blocks,\n",
        "   which reduces memory usage and enables faster access.\n",
        "\n",
        "3) Broadcasting: NumPy’s broadcasting allows operations on arrays of different shapes and sizes without requiring the explicit replication of data,\n",
        "   saving both time and memory.\n",
        "\n",
        "4) Interoperability: NumPy arrays can be used in conjunction with other data science libraries and data formats, such as CSV, HDF5,\n",
        "   and even integration with other languages like R, C, and Fortran.\n"
      ],
      "metadata": {
        "id": "RwipmBZB9Ioo"
      },
      "execution_count": null,
      "outputs": []
    },
    {
      "cell_type": "code",
      "source": [
        "How NumPy Enhances Python’s Capabilities"
      ],
      "metadata": {
        "id": "S5A7ytzz9gpx"
      },
      "execution_count": null,
      "outputs": []
    },
    {
      "cell_type": "code",
      "source": [
        "1) Vectorized Operations: By applying operations to entire arrays or subarrays, NumPy avoids slow Python loops, making numerical computations much faster.\n",
        "\n",
        "2) Mathematical Efficiency: Operations like element-wise addition, subtraction, multiplication,\n",
        "   and more complex operations (e.g., dot products, cross products) are optimized for high performance in NumPy.\n",
        "\n",
        "3) Data Manipulation and Reshaping: With functions like reshape(), transpose(), and concatenate(), NumPy makes it easy to manipulate and transform\n",
        "   data structures as needed.\n"
      ],
      "metadata": {
        "id": "ZAgDhQ-69jVY"
      },
      "execution_count": null,
      "outputs": []
    },
    {
      "cell_type": "code",
      "source": [
        "Overall, NumPy transforms Python into a highly efficient, versatile tool for numerical analysis and data manipulation, offering speed, memory efficiency,\n",
        "and a comprehensive set of functionalities that are essential in scientific computing."
      ],
      "metadata": {
        "id": "XYSTc7MF9urZ"
      },
      "execution_count": null,
      "outputs": []
    },
    {
      "cell_type": "markdown",
      "source": [
        "2. 2. Compare and contrast np.mean() and np.average() functions in NumPy. When would you use one over the other?\n"
      ],
      "metadata": {
        "id": "CPCJsdaM-AzN"
      }
    },
    {
      "cell_type": "markdown",
      "source": [
        "In NumPy, both np.mean() and np.average() compute the average of array elements, but they have a few key differences, especially when handling weights."
      ],
      "metadata": {
        "id": "b3wmPekN-DO4"
      }
    },
    {
      "cell_type": "code",
      "source": [
        "np.mean()"
      ],
      "metadata": {
        "id": "b1lxc-hc-PKx"
      },
      "execution_count": null,
      "outputs": []
    },
    {
      "cell_type": "code",
      "source": [
        "1) Purpose: Computes the arithmetic mean (average) of array elements along a specified axis.\n",
        "\n",
        "2) Syntax: np.mean(array, axis=None).\n",
        "\n",
        "3) Functionality: Simple mean; does not support weights.\n",
        "\n",
        "4) Use Case: When you need the straightforward arithmetic mean without any weights."
      ],
      "metadata": {
        "id": "4f2BXOGZ-Q_I"
      },
      "execution_count": null,
      "outputs": []
    },
    {
      "cell_type": "code",
      "source": [
        "np.average()\n",
        "\n",
        "1) Purpose: Computes the weighted average of array elements along a specified axis.\n",
        "\n",
        "2) Syntax: np.average(array, axis=None, weights=None).\n",
        "\n",
        "3) Functionality: Allows for weights, where each element can contribute differently to the final average based on its associated weight.\n",
        "\n",
        "4) Use Case: When you want a weighted average. If weights=None, it behaves like np.mean().\n"
      ],
      "metadata": {
        "id": "tW4Sm9nC-X5Z"
      },
      "execution_count": null,
      "outputs": []
    },
    {
      "cell_type": "code",
      "source": [
        "Key Differences and When to Use Each\n",
        "\n",
        "1) Weights: Use np.average() when you need to account for weights; otherwise, np.mean() is sufficient.\n",
        "\n",
        "2) Syntax simplicity: np.mean() has a simpler syntax, making it easier to use for basic averages."
      ],
      "metadata": {
        "id": "moG8ckTV-fNg"
      },
      "execution_count": null,
      "outputs": []
    },
    {
      "cell_type": "code",
      "source": [
        "In summary:\n",
        "\n",
        "1) Use np.mean() for unweighted means.\n",
        "\n",
        "2) Use np.average() when you need weighted means, or where you may need flexibility to add weights later."
      ],
      "metadata": {
        "id": "Nkn7E2j1-lkA"
      },
      "execution_count": null,
      "outputs": []
    },
    {
      "cell_type": "markdown",
      "source": [
        "3. 3. Describe the methods for reversing a NumPy array along different axes. Provide examples for 1D and 2D arrays?"
      ],
      "metadata": {
        "id": "2GG8Mkht-x3H"
      }
    },
    {
      "cell_type": "markdown",
      "source": [
        "In NumPy, reversing an array can be done using slicing, the flip() function, and other methods, each offering flexibility for reversing along different axes. Here’s a breakdown of the primary techniques, with examples for both 1D and 2D arrays."
      ],
      "metadata": {
        "id": "66US312X-5rX"
      }
    },
    {
      "cell_type": "code",
      "source": [
        "1. 1. Reversing a 1D Array"
      ],
      "metadata": {
        "id": "QFfVjo5u-8pB"
      },
      "execution_count": null,
      "outputs": []
    },
    {
      "cell_type": "code",
      "source": [
        "Method 1: Using Slicing ([::-1])\n",
        "\n",
        "In a 1D array, you can reverse all elements by slicing with a step of -1.\n"
      ],
      "metadata": {
        "id": "RfgzOduv-_ZS"
      },
      "execution_count": null,
      "outputs": []
    },
    {
      "cell_type": "code",
      "source": [
        "import numpy as np\n",
        "\n",
        "# 1D Array\n",
        "arr_1d = np.array([1, 2, 3, 4, 5])\n",
        "reversed_arr_1d = arr_1d[::-1]\n",
        "print(\"Original 1D Array:\", arr_1d)\n",
        "print(\"Reversed 1D Array (slicing):\", reversed_arr_1d)"
      ],
      "metadata": {
        "id": "An1skQBa_BvI"
      },
      "execution_count": null,
      "outputs": []
    },
    {
      "cell_type": "code",
      "source": [
        "2. Method 2: Using np.flip()"
      ],
      "metadata": {
        "id": "9IL1boJX_FDx"
      },
      "execution_count": null,
      "outputs": []
    },
    {
      "cell_type": "code",
      "source": [
        "The np.flip() function can also reverse the elements in a 1D array."
      ],
      "metadata": {
        "id": "yeLXa6KB_HMg"
      },
      "execution_count": null,
      "outputs": []
    },
    {
      "cell_type": "code",
      "source": [
        "reversed_arr_1d_flip = np.flip(arr_1d)\n",
        "print(\"Reversed 1D Array (np.flip):\", reversed_arr_1d_flip)"
      ],
      "metadata": {
        "id": "Uoot_gg2_Jzw"
      },
      "execution_count": null,
      "outputs": []
    },
    {
      "cell_type": "code",
      "source": [
        "2. Reversing a 2D Array"
      ],
      "metadata": {
        "id": "b7HkkVeB_LMn"
      },
      "execution_count": null,
      "outputs": []
    },
    {
      "cell_type": "code",
      "source": [
        "In a 2D array, you can reverse along different axes:\n",
        "\n",
        "1) Axis 0: Reverse along rows (up-down)\n",
        "\n",
        "2) Axis 1: Reverse along columns (left-right)\n",
        "\n",
        "3) Both Axes: Reverse both rows and columns (diagonal flip)\n"
      ],
      "metadata": {
        "id": "-I_FJo_R_PSf"
      },
      "execution_count": null,
      "outputs": []
    },
    {
      "cell_type": "code",
      "source": [
        "Method 1: Using Slicing"
      ],
      "metadata": {
        "id": "DsQ4Eudy_UNo"
      },
      "execution_count": null,
      "outputs": []
    },
    {
      "cell_type": "code",
      "source": [
        "1. Reverse Rows (axis 0):"
      ],
      "metadata": {
        "id": "kyFOr6q5_W-S"
      },
      "execution_count": null,
      "outputs": []
    },
    {
      "cell_type": "code",
      "source": [
        "arr_2d = np.array([[1, 2, 3], [4, 5, 6], [7, 8, 9]])\n",
        "reversed_rows = arr_2d[::-1, :]\n",
        "print(\"Original 2D Array:\\n\", arr_2d)\n",
        "print(\"Reversed Rows:\\n\", reversed_rows)"
      ],
      "metadata": {
        "id": "HKgVJjmd_ZSw"
      },
      "execution_count": null,
      "outputs": []
    },
    {
      "cell_type": "code",
      "source": [
        "2. Reverse Columns (axis 1):"
      ],
      "metadata": {
        "id": "NacSg71k_bEu"
      },
      "execution_count": null,
      "outputs": []
    },
    {
      "cell_type": "code",
      "source": [
        "reversed_cols = arr_2d[:, ::-1]\n",
        "print(\"Reversed Columns:\\n\", reversed_cols)"
      ],
      "metadata": {
        "id": "fYJ0FPAR_eiJ"
      },
      "execution_count": null,
      "outputs": []
    },
    {
      "cell_type": "code",
      "source": [
        "3. Reverse Both Rows and Columns:"
      ],
      "metadata": {
        "id": "FJCwlzKB_fsA"
      },
      "execution_count": null,
      "outputs": []
    },
    {
      "cell_type": "code",
      "source": [
        "reversed_both = arr_2d[::-1, ::-1]\n",
        "print(\"Reversed Rows and Columns:\\n\", reversed_both)"
      ],
      "metadata": {
        "id": "ar0QjWdN_jGJ"
      },
      "execution_count": null,
      "outputs": []
    },
    {
      "cell_type": "code",
      "source": [
        "Method 2: Using np.flip()"
      ],
      "metadata": {
        "id": "iosiDpc4_kaw"
      },
      "execution_count": null,
      "outputs": []
    },
    {
      "cell_type": "code",
      "source": [
        "The np.flip() function can reverse a 2D array along a specified axis or both axes.\n",
        "\n",
        "Reverse Rows (axis 0):\n"
      ],
      "metadata": {
        "id": "z97Ef3qo_mJQ"
      },
      "execution_count": null,
      "outputs": []
    },
    {
      "cell_type": "code",
      "source": [
        "reversed_rows_flip = np.flip(arr_2d, axis=0)\n",
        "print(\"Reversed Rows (np.flip):\\n\", reversed_rows_flip)"
      ],
      "metadata": {
        "id": "T5bPq0Y5_nxv"
      },
      "execution_count": null,
      "outputs": []
    },
    {
      "cell_type": "code",
      "source": [
        "2. Reverse Columns (axis 1):\n",
        "\n",
        "python\n",
        "Copy code\n",
        "reversed_cols_flip = np.flip(arr_2d, axis=1)\n",
        "print(\"Reversed Columns (np.flip):\\n\", reversed_cols_flip)\n"
      ],
      "metadata": {
        "id": "FHLNPFMV_qq4"
      },
      "execution_count": null,
      "outputs": []
    },
    {
      "cell_type": "code",
      "source": [
        "3. Reverse Both Rows and Columns:\n",
        "\n",
        "python\n",
        "Copy code\n",
        "reversed_both_flip = np.flip(arr_2d)\n",
        "print(\"Reversed Rows and Columns (np.flip):\\n\", reversed_both_flip)\n"
      ],
      "metadata": {
        "id": "ikOFm-0t_tEq"
      },
      "execution_count": null,
      "outputs": []
    },
    {
      "cell_type": "code",
      "source": [
        "Summary\n",
        "Method\t      Reversing along axis 0\t      Reversing along axis 1\t         Reversing along both axes\n",
        "Slicing\t      arr[::-1, :]\t                arr[:, ::-1]\t                    arr[::-1, ::-1]\n",
        "np.flip()     np.flip(arr, axis=0)\t        np.flip(arr, axis=1)\t            np.flip(arr)\n"
      ],
      "metadata": {
        "id": "djT49YyQ_wMB"
      },
      "execution_count": null,
      "outputs": []
    },
    {
      "cell_type": "code",
      "source": [
        "These methods give a straightforward way to reverse a NumPy array along any chosen axis or both at once.\n"
      ],
      "metadata": {
        "id": "WqriKLy_ADWp"
      },
      "execution_count": null,
      "outputs": []
    },
    {
      "cell_type": "markdown",
      "source": [
        "4. 4. How can you determine the data type of elements in a NumPy array? Discuss the importance of data types in memory management and performance?"
      ],
      "metadata": {
        "id": "k7ih8vxhAFpx"
      }
    },
    {
      "cell_type": "markdown",
      "source": [
        "To determine the data type of elements in a NumPy array, you can use the .dtype attribute of the array. For example, if you have a NumPy array called arr, you can find the data type of its elements by checking arr.dtype. This will return a dtype object that represents the type of the elements in the array, such as int32, float64, etc."
      ],
      "metadata": {
        "id": "Wo2w9UPXAOAr"
      }
    },
    {
      "cell_type": "code",
      "source": [
        "Example:"
      ],
      "metadata": {
        "id": "9t4Ctf6iANj4"
      },
      "execution_count": null,
      "outputs": []
    },
    {
      "cell_type": "code",
      "source": [
        "import numpy as np\n",
        "\n",
        "arr = np.array([1, 2, 3], dtype=np.int32)\n",
        "print(arr.dtype)  # Output: int32"
      ],
      "metadata": {
        "id": "wBmr4g7ZAUTQ"
      },
      "execution_count": null,
      "outputs": []
    },
    {
      "cell_type": "code",
      "source": [
        "Importance of Data Types in Memory Management and Performance\n",
        "\n",
        "The data type of elements in a NumPy array is crucial for both memory efficiency and computational performance. Here’s why:"
      ],
      "metadata": {
        "id": "Ppvfa6RfAVrw"
      },
      "execution_count": null,
      "outputs": []
    },
    {
      "cell_type": "code",
      "source": [
        "1. Memory Management:"
      ],
      "metadata": {
        "id": "pft5A0vVAavJ"
      },
      "execution_count": null,
      "outputs": []
    },
    {
      "cell_type": "code",
      "source": [
        "1) Each data type requires a specific amount of memory. For example, int32 uses 4 bytes, while int64 uses 8 bytes.\n",
        "   Using an appropriate data type minimizes memory usage, especially for large arrays.\n",
        "\n",
        "2) Choosing a smaller data type (like float32 over float64) can save significant memory when dealing with large datasets, which is essential\n",
        "   when working on systems with limited memory resources.\n"
      ],
      "metadata": {
        "id": "Zm5KRKb0AcuI"
      },
      "execution_count": null,
      "outputs": []
    },
    {
      "cell_type": "code",
      "source": [
        "2. Performance:"
      ],
      "metadata": {
        "id": "y-PI3KCiAjGp"
      },
      "execution_count": null,
      "outputs": []
    },
    {
      "cell_type": "code",
      "source": [
        "1) NumPy operations are highly optimized for specific data types. For example, using float32 for floating-point calculations\n",
        "   can lead to faster execution compared to float64 due to lower memory bandwidth and fewer CPU cycles per element.\n",
        "\n",
        "2) Data types also affect vectorized operations. Using a consistent and optimal data type allows for faster computations because NumPy can leverage\n",
        "   low-level optimizations based on data type.\n"
      ],
      "metadata": {
        "id": "dMrP_oqsAlrh"
      },
      "execution_count": null,
      "outputs": []
    },
    {
      "cell_type": "code",
      "source": [
        "Choosing the right data type for a NumPy array enables you to balance memory usage and processing speed effectively,\n",
        "leading to better performance and optimized resource management.\n"
      ],
      "metadata": {
        "id": "DYN0hZVpAs6R"
      },
      "execution_count": null,
      "outputs": []
    },
    {
      "cell_type": "markdown",
      "source": [
        "5. Define ndarrays in NumPy and explain their key features. How do they differ from standard Python lists?"
      ],
      "metadata": {
        "id": "kGZ69gqTBK0I"
      }
    },
    {
      "cell_type": "markdown",
      "source": [
        "In NumPy, an ndarray (n-dimensional array) is a powerful, multi-dimensional array object designed for efficient scientific computing. An ndarray can represent data of the same type, organized across multiple dimensions (axes). Here’s a breakdown of its key features and how it compares to standard Python lists:"
      ],
      "metadata": {
        "id": "4TYu8-cwBOzo"
      }
    },
    {
      "cell_type": "code",
      "source": [
        "Key Features of ndarray in NumPy"
      ],
      "metadata": {
        "id": "ni146pPgBWdA"
      },
      "execution_count": null,
      "outputs": []
    },
    {
      "cell_type": "code",
      "source": [
        "1) Homogeneous Data: All elements in an ndarray have the same data type, which allows for efficient memory storage and computation.\n",
        "\n",
        "2) Multi-dimensional: ndarray can have any number of dimensions, such as 1D, 2D, 3D, etc., supporting complex data structures like matrices and tensors.\n",
        "\n",
        "3) Optimized for Performance: NumPy arrays are implemented in C, providing faster computations than Python lists.\n",
        "   Operations on ndarrays leverage SIMD (Single Instruction, Multiple Data) and parallelism, optimizing mathematical computations.\n",
        "\n",
        "4) Element-wise Operations: NumPy supports vectorized operations, allowing operations to be applied to all elements without explicit looping,\n",
        "   which is faster and more efficient.\n",
        "\n",
        "5) Memory Efficiency: ndarrays consume less memory than Python lists, especially when handling large datasets, because they store data in contiguous blocks.\n",
        "\n",
        "6) Broadcasting: NumPy can perform operations on arrays of different shapes without needing to duplicate data, which saves memory and computation time.\n"
      ],
      "metadata": {
        "id": "qs2EEQ0hBYYC"
      },
      "execution_count": null,
      "outputs": []
    },
    {
      "cell_type": "code",
      "source": [
        "Differences Between ndarrays and Standard Python Lists\n",
        "\n",
        "Feature\t                              ndarray\t                                    Python List\n",
        "Data Type\t                         Homogeneous\t                                  Heterogeneous\n",
        "Dimensions            \t    Multi-dimensional (n-dimensional)\t                Primarily 1D (lists of lists for higher dims)\n",
        "Memory Efficiency\t                   Higher\t                                        Lower\n",
        "Performance\t                 Optimized (C-based, vectorized)\t                  Slower, especially with loops\n",
        "Element-wise Operations \t     Supported (vectorized)\t                           Not supported (need loops)\n",
        "Broadcasting\t                     Supported\t                                     Not available\n"
      ],
      "metadata": {
        "id": "J5vcC93bBlJw"
      },
      "execution_count": null,
      "outputs": []
    },
    {
      "cell_type": "code",
      "source": [
        " In summary, ndarrays are highly optimized, flexible, and memory-efficient structures, ideal for large-scale numerical and scientific computations,\n",
        " whereas Python lists are more general-purpose and not optimized for numerical operations.\n"
      ],
      "metadata": {
        "id": "0jZ4veKXCye4"
      },
      "execution_count": null,
      "outputs": []
    },
    {
      "cell_type": "markdown",
      "source": [
        "6. 6. Analyze the performance benefits of NumPy arrays over Python lists for large-scale numerical operations?"
      ],
      "metadata": {
        "id": "f3ZR-RAvDAWE"
      }
    },
    {
      "cell_type": "markdown",
      "source": [
        "NumPy arrays offer substantial performance benefits over Python lists for large-scale numerical operations due to the following reasons:"
      ],
      "metadata": {
        "id": "pKNyyUIHDHyR"
      }
    },
    {
      "cell_type": "code",
      "source": [
        "1)  Memory Efficiency: NumPy arrays use contiguous blocks of memory and are of a fixed data type, which allows for more efficient memory usage.\n",
        "    In contrast, Python lists store pointers to individual objects, which leads to higher memory consumption.\n",
        "    This contiguous memory layout in NumPy arrays also allows for better cache utilization.\n",
        "\n",
        "2)  Vectorized Operations: NumPy supports vectorized operations, allowing you to perform element-wise computations without explicit loops.\n",
        "    These vectorized operations are executed at the compiled, lower level (using optimized C, C++, or Fortran code under the hood),\n",
        "    avoiding the overhead of Python's interpreter loop and making operations much faster.\n",
        "\n",
        "3) Broadcasting: NumPy arrays support broadcasting, which allows operations on arrays of different shapes and sizes\n",
        "   without the need to manually reshape or expand data. This reduces the need for looping and helps in reducing the code complexity and execution time.\n",
        "\n",
        "4) Low-Level Implementation: NumPy is implemented in C, enabling efficient, low-level operations. This results in much faster execution for numerical tasks\n",
        "   compared to Python lists, where each operation incurs significant overhead due to Python’s object-oriented architecture.\n",
        "\n",
        "5) Efficient Math Functions: NumPy offers a wide range of mathematical functions that are optimized for array operations.\n",
        "   Using these optimized functions is faster than writing custom mathematical operations with Python lists, especially for large datasets.\n",
        "\n",
        "6) Multidimensional Support: NumPy supports multidimensional arrays and matrices, which simplifies the handling of higher-dimensional data.\n",
        "   This reduces the need for complex nested lists in Python, making code both faster and more readable.\n",
        "\n"
      ],
      "metadata": {
        "id": "dIbkMNEYDLuQ"
      },
      "execution_count": null,
      "outputs": []
    },
    {
      "cell_type": "code",
      "source": [
        "Example Benchmark:\n",
        "\n",
        "1) For large datasets, a simple operation like element-wise addition is typically 10-100x faster with NumPy arrays than with Python lists due to the factors\n",
        "   above.\n",
        "\n",
        "2) In summary, NumPy arrays are much more efficient for large-scale numerical computations because they allow optimized, low-level operations, use less memory\n",
        "   and support faster, vectorized calculations, all of which improve performance significantly.\n"
      ],
      "metadata": {
        "id": "nA1tq3GaDfZZ"
      },
      "execution_count": null,
      "outputs": []
    },
    {
      "cell_type": "markdown",
      "source": [
        "7. Compare vstack() and hstack() functions in NumPy. Provide examples demonstrating their usage and output?"
      ],
      "metadata": {
        "id": "1eNALv4fENDi"
      }
    },
    {
      "cell_type": "markdown",
      "source": [
        "In NumPy, the vstack() and hstack() functions are used to stack arrays vertically and horizontally, respectively. They allow for the efficient combination of arrays along different axes. Let’s go over each function in detail with examples."
      ],
      "metadata": {
        "id": "_Z1FqPRIE67C"
      }
    },
    {
      "cell_type": "code",
      "source": [
        "1. vstack()\n",
        "\n",
        "Definition: The vstack() function stacks arrays vertically, row by row. It takes a sequence of arrays as input and stacks them along the first axis (axis=0).\n",
        "\n",
        "Requirements: The input arrays should have the same number of columns (same second dimension size)."
      ],
      "metadata": {
        "id": "Eo8RpJ3_Ft7o"
      },
      "execution_count": null,
      "outputs": []
    },
    {
      "cell_type": "code",
      "source": [
        "Example of vstack()"
      ],
      "metadata": {
        "id": "z1A15pQLGgjK"
      },
      "execution_count": null,
      "outputs": []
    },
    {
      "cell_type": "code",
      "source": [
        "import numpy as np\n",
        "\n",
        "# Define two 2x2 arrays\n",
        "array1 = np.array([[1, 2], [3, 4]])\n",
        "array2 = np.array([[5, 6], [7, 8]])\n",
        "\n",
        "# Stack arrays vertically\n",
        "result_vstack = np.vstack((array1, array2))\n",
        "print(\"Result of vstack:\\n\", result_vstack)"
      ],
      "metadata": {
        "id": "LhsSo-1GGhzw"
      },
      "execution_count": null,
      "outputs": []
    },
    {
      "cell_type": "code",
      "source": [
        "Output:"
      ],
      "metadata": {
        "id": "_enIll8kGjVJ"
      },
      "execution_count": null,
      "outputs": []
    },
    {
      "cell_type": "code",
      "source": [
        "Result of vstack:\n",
        " [[1 2]\n",
        "  [3 4]\n",
        "  [5 6]\n",
        "  [7 8]]"
      ],
      "metadata": {
        "id": "rtNXEfNQGm4b"
      },
      "execution_count": null,
      "outputs": []
    },
    {
      "cell_type": "code",
      "source": [
        "In this example, vstack() stacks array1 and array2 vertically, adding the rows of array2 below the rows of array1."
      ],
      "metadata": {
        "id": "-55gpApZGnsZ"
      },
      "execution_count": null,
      "outputs": []
    },
    {
      "cell_type": "code",
      "source": [
        "2. hstack()\n",
        "\n",
        "1) Definition: The hstack() function stacks arrays horizontally, column by column. It takes a sequence of arrays as input and stacks\n",
        "   them along the second axis (axis=1).\n",
        "\n",
        "2) Requirements: The input arrays should have the same number of rows (same first dimension size).\n"
      ],
      "metadata": {
        "id": "KNoJ5HB7Gpdh"
      },
      "execution_count": null,
      "outputs": []
    },
    {
      "cell_type": "code",
      "source": [
        "Example of hstack()\n",
        "\n",
        "python\n",
        "\n",
        "# Define two 2x2 arrays\n",
        "array1 = np.array([[1, 2], [3, 4]])\n",
        "array2 = np.array([[5, 6], [7, 8]])\n",
        "\n",
        "# Stack arrays horizontally\n",
        "result_hstack = np.hstack((array1, array2))\n",
        "print(\"Result of hstack:\\n\", result_hstack)\n"
      ],
      "metadata": {
        "id": "cSRQhWvHGwVq"
      },
      "execution_count": null,
      "outputs": []
    },
    {
      "cell_type": "code",
      "source": [
        "Output:"
      ],
      "metadata": {
        "id": "kEQIpuQgHBgx"
      },
      "execution_count": null,
      "outputs": []
    },
    {
      "cell_type": "code",
      "source": [
        "Result of hstack:\n",
        " [[1 2 5 6]\n",
        "  [3 4 7 8]]"
      ],
      "metadata": {
        "id": "d-wmEOCOHGWj"
      },
      "execution_count": null,
      "outputs": []
    },
    {
      "cell_type": "code",
      "source": [
        "In this example, hstack() stacks array1 and array2 horizontally, appending the columns of array2 to the columns of array1."
      ],
      "metadata": {
        "id": "VxbS6B8zHJYa"
      },
      "execution_count": null,
      "outputs": []
    },
    {
      "cell_type": "code",
      "source": [
        "Summary of Key Differences\n",
        "\n",
        " Function\t                Stacks Along\t             Requirement\t                     Example Output\n",
        "vstack()\t                Vertical\t                Same number of columns\t           Rows stacked vertically\n",
        "hstack()\t                Horizontal\t              Same number of rows\tColumns s      tacked horizontally\n"
      ],
      "metadata": {
        "id": "3DiwsJzrHNkY"
      },
      "execution_count": null,
      "outputs": []
    },
    {
      "cell_type": "code",
      "source": [
        "Both functions are useful for reshaping or combining arrays, depending on whether you want them to be added along rows or columns."
      ],
      "metadata": {
        "id": "B9clFWaVHZ_C"
      },
      "execution_count": null,
      "outputs": []
    },
    {
      "cell_type": "markdown",
      "source": [
        "8. Explain the differences between fliplr() and flipud() methods in NumPy, including their effects on various array dimensions?\n",
        "\n"
      ],
      "metadata": {
        "id": "g7SroTBAHcPp"
      }
    },
    {
      "cell_type": "markdown",
      "source": [
        "In NumPy, the fliplr() and flipud() methods are used to reverse the order of elements in a given array, but they operate along different dimensions:"
      ],
      "metadata": {
        "id": "k5sMa3L1LDZC"
      }
    },
    {
      "cell_type": "code",
      "source": [
        "1. np.fliplr() (Flip Left to Right):\n",
        "\n",
        "1) fliplr() flips the elements in an array horizontally, reversing the order along the second axis (columns).\n",
        "\n",
        "2) It only works on 2D arrays or higher. For example, in a 2D array, it will reverse the order of columns,\n",
        "  turning the leftmost column into the rightmost one and vice versa.\n",
        "\n",
        "3) Example: Given a 2D array [[1, 2, 3], [4, 5, 6]], fliplr() will return [[3, 2, 1], [6, 5, 4]].\n"
      ],
      "metadata": {
        "id": "SoKU9UQrMug2"
      },
      "execution_count": null,
      "outputs": []
    },
    {
      "cell_type": "code",
      "source": [
        "2. np.flipud() (Flip Up to Down):\n",
        "\n",
        "1) flipud() flips the elements in an array vertically, reversing the order along the first axis (rows).\n",
        "\n",
        "2) This function works on arrays of any dimension, reversing the order of rows in a 2D array.\n",
        "\n",
        "3) Example: Given a 2D array [[1, 2, 3], [4, 5, 6]], flipud() will return [[4, 5, 6], [1, 2, 3]].\n"
      ],
      "metadata": {
        "id": "84HIHFvRM-NY"
      },
      "execution_count": null,
      "outputs": []
    },
    {
      "cell_type": "code",
      "source": [
        "Summary of Differences:\n",
        "\n",
        "1) Axes of Operation: fliplr() reverses columns (axis 1), while flipud() reverses rows (axis 0).\n",
        "\n",
        "2) Dimensional Requirements: fliplr() requires a 2D array or higher, but flipud() works on arrays of any dimension.\n"
      ],
      "metadata": {
        "id": "HFj0lP70NIiE"
      },
      "execution_count": null,
      "outputs": []
    },
    {
      "cell_type": "markdown",
      "source": [
        "9. Discuss the functionality of the array_split() method in NumPy. How does it handle uneven splits?"
      ],
      "metadata": {
        "id": "pl6f86Y0NTKT"
      }
    },
    {
      "cell_type": "markdown",
      "source": [
        "The numpy.array_split() method is used to divide an array into multiple sub-arrays. This function is especially useful when you need to split an array into a specific number of sections, even if the sections do not divide the array evenly.\n",
        "\n"
      ],
      "metadata": {
        "id": "LYswEzgVNWFx"
      }
    },
    {
      "cell_type": "code",
      "source": [
        "Key Points of array_split()\n",
        "1. Parameters:\n",
        "\n",
        "1) The first parameter is the array you want to split.\n",
        "\n",
        "2) The second parameter specifies the number of sections you want to split the array into.\n",
        "\n",
        "2. Uneven Splits:\n",
        "\n",
        "1) If the array cannot be divided evenly, array_split() handles this by creating some sub-arrays with more elements than others.\n",
        "\n",
        "2) The first few sections will have one extra element to make up for any uneven split.\n",
        "\n",
        "3) For example, if you split an array with 10 elements into 3 parts, array_split() will create three sub-arrays with 4, 3, and 3 elements, respectively.\n"
      ],
      "metadata": {
        "id": "wOffKasDNb7C"
      },
      "execution_count": null,
      "outputs": []
    },
    {
      "cell_type": "code",
      "source": [
        "Example"
      ],
      "metadata": {
        "id": "5l0oB1d4NrSy"
      },
      "execution_count": null,
      "outputs": []
    },
    {
      "cell_type": "code",
      "source": [
        "import numpy as np\n",
        "\n",
        "# Array of 10 elements\n",
        "arr = np.arange(10)\n",
        "\n",
        "# Split into 3 parts\n",
        "split_arr = np.array_split(arr, 3)\n",
        "print(split_arr)"
      ],
      "metadata": {
        "id": "HPByUU9VNyTL"
      },
      "execution_count": null,
      "outputs": []
    },
    {
      "cell_type": "code",
      "source": [
        "Output\n",
        "scss\n",
        "\n",
        "[array([0, 1, 2, 3]), array([4, 5, 6]), array([7, 8, 9])]\n"
      ],
      "metadata": {
        "id": "Ixqw7U0oN1BR"
      },
      "execution_count": null,
      "outputs": []
    },
    {
      "cell_type": "code",
      "source": [
        "In this example, the array is split into three parts. The first sub-array has 4 elements, while the other two have 3 elements each."
      ],
      "metadata": {
        "id": "FPdJUOA0N6kR"
      },
      "execution_count": null,
      "outputs": []
    },
    {
      "cell_type": "code",
      "source": [
        "Summary\n",
        "\n",
        "array_split() is useful for handling uneven splits because it intelligently distributes the extra elements across the first few sub-arrays,\n",
        "ensuring that every section gets as close to an even number of elements as possible."
      ],
      "metadata": {
        "id": "d6g911yIN9HB"
      },
      "execution_count": null,
      "outputs": []
    },
    {
      "cell_type": "markdown",
      "source": [
        "10. Explain the concepts of vectorization and broadcasting in NumPy. How do they contribute to efficient array operations?"
      ],
      "metadata": {
        "id": "DwT_gAG6OIHi"
      }
    },
    {
      "cell_type": "markdown",
      "source": [
        "In NumPy, vectorization and broadcasting are techniques that enable efficient array operations by eliminating the need for explicit loops, thus leveraging the power of low-level, optimized C code under the hood."
      ],
      "metadata": {
        "id": "3M5SDi8PORBD"
      }
    },
    {
      "cell_type": "code",
      "source": [
        "Vectorization\n",
        "\n",
        "Vectorization in NumPy refers to the practice of replacing explicit loops with array expressions to perform element-wise operations directly on arrays.\n",
        "Instead of iterating through each element individually,\n",
        "vectorized operations allow you to apply functions or arithmetic operations to entire arrays simultaneously.\n"
      ],
      "metadata": {
        "id": "SbkscBNjOWG5"
      },
      "execution_count": null,
      "outputs": []
    },
    {
      "cell_type": "code",
      "source": [
        "For example:"
      ],
      "metadata": {
        "id": "nis1IekZOecE"
      },
      "execution_count": null,
      "outputs": []
    },
    {
      "cell_type": "code",
      "source": [
        "import numpy as np\n",
        "\n",
        "# Without vectorization\n",
        "arr = np.array([1, 2, 3, 4])\n",
        "result = np.zeros_like(arr)\n",
        "for i in range(len(arr)):\n",
        "    result[i] = arr[i] * 2\n",
        "\n",
        "# With vectorization\n",
        "result = arr * 2"
      ],
      "metadata": {
        "id": "DjrQzMdGO4li"
      },
      "execution_count": null,
      "outputs": []
    },
    {
      "cell_type": "code",
      "source": [
        " 1) Vectorization significantly improves performance because it uses compiled code in the background, which is faster\n",
        "    than running Python loops.\n",
        "\n",
        "2)  Broadcasting\n",
        "    Broadcasting is a mechanism that allows NumPy to perform operations on arrays of different shapes by automatically expanding the smaller\n",
        "    array along the dimensions of the larger array. It matches shapes by \"stretching\" or \"broadcasting\" dimensions without making copies of the data,\n",
        "    which saves both time and memory.\n",
        "\n"
      ],
      "metadata": {
        "id": "Q6JyXxhnO66s"
      },
      "execution_count": null,
      "outputs": []
    },
    {
      "cell_type": "code",
      "source": [
        "For example:"
      ],
      "metadata": {
        "id": "xVGfieP-PHaZ"
      },
      "execution_count": null,
      "outputs": []
    },
    {
      "cell_type": "code",
      "source": [
        "a = np.array([1, 2, 3])  # Shape (3,)\n",
        "b = np.array([[10], [20], [30]])  # Shape (3, 1)\n",
        "\n",
        "# Broadcasting b to match the shape of a for element-wise addition\n",
        "result = a + b"
      ],
      "metadata": {
        "id": "QnF69YkTPITR"
      },
      "execution_count": null,
      "outputs": []
    },
    {
      "cell_type": "code",
      "source": [
        "Here, a (shape (3,)) is \"broadcast\" across b (shape (3, 1)) so that element-wise addition can occur without reshaping or creating redundant copies.\n",
        "\n",
        "Contribution to Efficiency\n",
        "\n",
        "1) Memory Efficiency: Broadcasting avoids unnecessary memory allocation by not creating copies of arrays for matching shapes.\n",
        "\n",
        "2) Speed: Vectorized operations eliminate Python loops, allowing operations to run in optimized C code.\n",
        "\n",
        "3) Readability: Using vectorization and broadcasting results in cleaner, more readable code, as complex loops are replaced by concise array operations.\n"
      ],
      "metadata": {
        "id": "iMxAKnFEPJ2k"
      },
      "execution_count": null,
      "outputs": []
    },
    {
      "cell_type": "code",
      "source": [
        "Together, vectorization and broadcasting make NumPy highly efficient for numerical computing tasks, particularly on large datasets, by reducing computation time and memory usage.\n"
      ],
      "metadata": {
        "id": "-pSf5E41PSmj"
      },
      "execution_count": null,
      "outputs": []
    },
    {
      "cell_type": "markdown",
      "source": [
        "Practical Questions:"
      ],
      "metadata": {
        "id": "Yp-vlb1QPVnl"
      }
    },
    {
      "cell_type": "markdown",
      "source": [
        "11. Create a 3x3 NumPy array with random integers between 1 and 100. Then, interchange its rows and columns?"
      ],
      "metadata": {
        "id": "VJOsOJ-GPYvn"
      }
    },
    {
      "cell_type": "markdown",
      "source": [
        "Here’s the 3x3 NumPy array with random integers between 1 and 100:"
      ],
      "metadata": {
        "id": "paX3pwiGPf8a"
      }
    },
    {
      "cell_type": "code",
      "source": [
        "Original Array:\n",
        "\n",
        "lua\n",
        "\n",
        "[[36, 87, 95],\n",
        " [98, 73,  4],\n",
        " [23, 76, 46]]"
      ],
      "metadata": {
        "id": "znSqcZ2fPnG6"
      },
      "execution_count": null,
      "outputs": []
    },
    {
      "cell_type": "code",
      "source": [
        "After interchanging its rows and columns (transpose):"
      ],
      "metadata": {
        "id": "CUtViJeXPqg5"
      },
      "execution_count": null,
      "outputs": []
    },
    {
      "cell_type": "code",
      "source": [
        "[[36, 98, 23],\n",
        " [87, 73, 76],\n",
        " [95,  4, 46]]"
      ],
      "metadata": {
        "id": "kbkhAiZlQe1S"
      },
      "execution_count": null,
      "outputs": []
    },
    {
      "cell_type": "markdown",
      "source": [
        "12. Generate a 1D NumPy array with 10 elements. Reshape it into a 2x5 array, then into a 5x2 array?"
      ],
      "metadata": {
        "id": "icm17PdOTGem"
      }
    },
    {
      "cell_type": "markdown",
      "source": [
        "import numpy as np\n",
        "\n",
        "# Generate a 1D NumPy array with 10 elements\n",
        "array_1d = np.arange(10)\n",
        "\n",
        "# Reshape it into a 2x5 array\n",
        "array_2x5 = array_1d.reshape(2, 5)\n",
        "\n",
        "# Reshape it into a 5x2 array\n",
        "array_5x2 = array_1d.reshape(5, 2)\n",
        "\n",
        "array_1d, array_2x5, array_5x2"
      ],
      "metadata": {
        "id": "Hk4FDy8qTata"
      }
    },
    {
      "cell_type": "code",
      "source": [
        "(array([0, 1, 2, 3, 4, 5, 6, 7, 8, 9]),\n",
        " array([[0, 1, 2, 3, 4],\n",
        "        [5, 6, 7, 8, 9]]),\n",
        " array([[0, 1],\n",
        "        [2, 3],\n",
        "        [4, 5],\n",
        "        [6, 7],\n",
        "        [8, 9]]))\n"
      ],
      "metadata": {
        "id": "K4wRH-C2Q1KJ"
      },
      "execution_count": null,
      "outputs": []
    },
    {
      "cell_type": "code",
      "source": [
        "Here are the results of the operations you requested:\n",
        "\n",
        "1. 1D NumPy array with 10 elements:\n",
        "\n",
        "[0,1,2,3,4,5,6,7,8,9]\n",
        "\n",
        "2. Reshaped into a 2x5 array:\n",
        "\n",
        "[ 0 1 2 3 4\n",
        "  5 6 7 8 9)\n",
        "\n",
        "3. Reshaped into a 5x2 array:\n",
        "\n",
        "  \\begin{bmatrix} 0 & 1 \\\\ 2 & 3 \\\\ 4 & 5 \\\\ 6 & 7 \\\\ 8 & 9 \\end{bmatrix} \\] &#8203;:contentReference[oaicite:0]{index=0}&#8203;\n"
      ],
      "metadata": {
        "id": "h20SuJsvV5rd"
      },
      "execution_count": null,
      "outputs": []
    },
    {
      "cell_type": "markdown",
      "source": [
        "13. Create a 4x4 NumPy array with random float values. Add a border of zeros around it, resulting in a 6x6 array?"
      ],
      "metadata": {
        "id": "0zFWx4vpUzH4"
      }
    },
    {
      "cell_type": "code",
      "source": [
        "import numpy as np\n",
        "\n",
        "# Create a 4x4 array with random float values\n",
        "array_4x4 = np.random.rand(4, 4)\n",
        "\n",
        "# Add a border of zeros around the 4x4 array to make it 6x6\n",
        "array_6x6 = np.pad(array_4x4, pad_width=1, mode='constant', constant_values=0)\n",
        "\n",
        "array_6x6\n"
      ],
      "metadata": {
        "id": "AQ0iLhT0U_Kv"
      },
      "execution_count": null,
      "outputs": []
    },
    {
      "cell_type": "code",
      "source": [
        "Result\n",
        "array([[0.        , 0.        , 0.        , 0.        , 0.        ,\n",
        "        0.        ],\n",
        "       [0.        , 0.39671065, 0.3827843 , 0.89790838, 0.44861613,\n",
        "        0.        ],\n",
        "       [0.        , 0.21743875, 0.8099038 , 0.21051365, 0.45988436,\n",
        "        0.        ],\n",
        "       [0.        , 0.21039723, 0.39052158, 0.89738868, 0.71447211,\n",
        "        0.        ],\n",
        "       [0.        , 0.33356364, 0.38303098, 0.44530941, 0.82408258,\n",
        "        0.        ],\n",
        "       [0.        , 0.        , 0.        , 0.        , 0.        ,\n",
        "        0.        ]])\n"
      ],
      "metadata": {
        "id": "34GCS8hgU__C"
      },
      "execution_count": null,
      "outputs": []
    },
    {
      "cell_type": "code",
      "source": [
        "Here is the resulting 6x6 array with random float values in the center and a border of zeros:\n",
        "\n",
        "\\begin{bmatrix} 0 & 0 & 0 & 0 & 0 & 0 \\\\ 0 & 0.3967 & 0.3828 & 0.8979 & 0.4486 & 0 \\\\ 0 & 0.2174 & 0.8099 & 0.2105 & 0.4599 & 0 \\\\ 0 & 0.2104 & 0.3905 &\n",
        " 0.8974 & 0.7145 & 0 \\\\ 0 & 0.3336 & 0.3830 & 0.4453 & 0.8241 & 0 \\\\ 0 & 0 & 0 & 0 & 0 & 0 \\\\ \\end{bmatrix} \\]\n",
        " &#8203;:contentReference[oaicite:0]{index=0}&#8203;"
      ],
      "metadata": {
        "id": "CmgmUbF3VEDX"
      },
      "execution_count": null,
      "outputs": []
    },
    {
      "cell_type": "markdown",
      "source": [
        "14. Using NumPy, create an array of integers from 10 to 60 with a step of 5?\n",
        "\n"
      ],
      "metadata": {
        "id": "KPoohrQ8VJ85"
      }
    },
    {
      "cell_type": "code",
      "source": [
        "import numpy as np\n",
        "\n",
        "# Creating an array of integers from 10 to 60 with a step of 5\n",
        "array = np.arange(10, 61, 5)\n",
        "array"
      ],
      "metadata": {
        "id": "t47QzS7EVPkH"
      },
      "execution_count": null,
      "outputs": []
    },
    {
      "cell_type": "code",
      "source": [
        "Result\n",
        "array([10, 15, 20, 25, 30, 35, 40, 45, 50, 55, 60])"
      ],
      "metadata": {
        "id": "d1ytreAhVRy3"
      },
      "execution_count": null,
      "outputs": []
    },
    {
      "cell_type": "code",
      "source": [
        "The array of integers from 10 to 60 with a step of 5 is:"
      ],
      "metadata": {
        "id": "_xaPPEzNVUmx"
      },
      "execution_count": null,
      "outputs": []
    },
    {
      "cell_type": "code",
      "source": [
        "[10 15 20 25 30 35 40 45 50 55 60]"
      ],
      "metadata": {
        "id": "iUpUK1ksVXPH"
      },
      "execution_count": null,
      "outputs": []
    },
    {
      "cell_type": "markdown",
      "source": [
        "15. Create a NumPy array of strings ['python', 'numpy', 'pandas']. Apply different case transformations (uppercase, lowercase, title case, etc.) to each element?\n",
        "\n"
      ],
      "metadata": {
        "id": "w1JIHsVqVfUY"
      }
    },
    {
      "cell_type": "code",
      "source": [
        "import numpy as np\n",
        "\n",
        "# Create a NumPy array of strings\n",
        "arr = np.array(['python', 'numpy', 'pandas'])\n",
        "\n",
        "# Apply different case transformations\n",
        "uppercase_arr = np.char.upper(arr)      # Uppercase transformation\n",
        "lowercase_arr = np.char.lower(arr)      # Lowercase transformation\n",
        "titlecase_arr = np.char.title(arr)      # Title case transformation\n",
        "capitalize_arr = np.char.capitalize(arr) # Capitalize transformation (first letter)\n",
        "\n",
        "uppercase_arr, lowercase_arr, titlecase_arr, capitalize_arr\n"
      ],
      "metadata": {
        "id": "_wBwu2FSVh73"
      },
      "execution_count": null,
      "outputs": []
    },
    {
      "cell_type": "code",
      "source": [
        "Result\n",
        "(array(['PYTHON', 'NUMPY', 'PANDAS'], dtype='<U6'),\n",
        " array(['python', 'numpy', 'pandas'], dtype='<U6'),\n",
        " array(['Python', 'Numpy', 'Pandas'], dtype='<U6'),\n",
        " array(['Python', 'Numpy', 'Pandas'], dtype='<U6'))"
      ],
      "metadata": {
        "id": "SSatPPn8Vm4B"
      },
      "execution_count": null,
      "outputs": []
    },
    {
      "cell_type": "code",
      "source": [
        "Here are the results of applying different case transformations to each element in the NumPy array:\n",
        "\n",
        "Uppercase: ['PYTHON', 'NUMPY', 'PANDAS']\n",
        "Lowercase: ['python', 'numpy', 'pandas']\n",
        "Title case: ['Python', 'Numpy', 'Pandas']\n",
        "Capitalized (first letter uppercase, rest lowercase): ['Python', 'Numpy', 'Pandas'] ​​"
      ],
      "metadata": {
        "id": "-DnKqSmuVo8w"
      },
      "execution_count": null,
      "outputs": []
    },
    {
      "cell_type": "markdown",
      "source": [
        "16. Generate a NumPy array of words. Insert a space between each character of every word in the array?\n",
        "\n"
      ],
      "metadata": {
        "id": "Kh6V4qO2VvDp"
      }
    },
    {
      "cell_type": "code",
      "source": [
        "To generate a NumPy array of words and insert a space between each character in every word, we can use the following approach:\n",
        "\n",
        "Create a NumPy array of words.\n",
        "Apply a function to each word that adds a space between its characters."
      ],
      "metadata": {
        "id": "hMg4C7y3VyVS"
      },
      "execution_count": null,
      "outputs": []
    },
    {
      "cell_type": "code",
      "source": [
        "import numpy as np\n",
        "\n",
        "# Step 1: Create a NumPy array of words\n",
        "words = np.array([\"hello\", \"world\", \"numpy\", \"array\"])\n",
        "\n",
        "# Step 2: Add a space between each character in every word\n",
        "spaced_words = np.array([\" \".join(word) for word in words])\n",
        "\n",
        "# Output the result\n",
        "spaced_words\n"
      ],
      "metadata": {
        "id": "mN3ezXBRWVgA"
      },
      "execution_count": null,
      "outputs": []
    },
    {
      "cell_type": "code",
      "source": [
        "This will result in a NumPy array where each word has a space between each character:"
      ],
      "metadata": {
        "id": "FC5jJKcTV8Mv"
      },
      "execution_count": null,
      "outputs": []
    },
    {
      "cell_type": "code",
      "source": [
        "array(['h e l l o', 'w o r l d', 'n u m p y', 'a r r a y'], dtype='<U9')"
      ],
      "metadata": {
        "id": "kXPf1JpbV9CD"
      },
      "execution_count": null,
      "outputs": []
    },
    {
      "cell_type": "markdown",
      "source": [
        "17. Create two 2D NumPy arrays and perform element-wise addition, subtraction, multiplication, and division?"
      ],
      "metadata": {
        "id": "PX-q9t-EWc5c"
      }
    },
    {
      "cell_type": "code",
      "source": [
        "import numpy as np\n",
        "\n",
        "# Creating two 2D NumPy arrays\n",
        "array1 = np.array([[5, 10, 15], [20, 25, 30]])\n",
        "array2 = np.array([[2, 4, 6], [8, 10, 12]])\n",
        "\n",
        "# Element-wise operations\n",
        "addition = np.add(array1, array2)\n",
        "subtraction = np.subtract(array1, array2)\n",
        "multiplication = np.multiply(array1, array2)\n",
        "division = np.divide(array1, array2)\n",
        "\n",
        "addition, subtraction, multiplication, division\n"
      ],
      "metadata": {
        "id": "bYFllfu0V-xy"
      },
      "execution_count": null,
      "outputs": []
    },
    {
      "cell_type": "code",
      "source": [
        "It seems like I can’t do more advanced data analysis right now. Please try again later. If you'd like, I can guide you through how to perform these operations\n",
        " on your own system. Let me know if you'd like instructions! ​​\n"
      ],
      "metadata": {
        "id": "G_a5OX_hWoH_"
      },
      "execution_count": null,
      "outputs": []
    },
    {
      "cell_type": "markdown",
      "source": [
        "18. Use NumPy to create a 5x5 identity matrix, then extract its diagonal elements?\n",
        "\n"
      ],
      "metadata": {
        "id": "I_rA6n7fWwxZ"
      }
    },
    {
      "cell_type": "code",
      "source": [
        "import numpy as np\n",
        "\n",
        "# Create a 5x5 identity matrix\n",
        "identity_matrix = np.eye(5)\n",
        "\n",
        "# Extract its diagonal elements\n",
        "diagonal_elements = np.diag(identity_matrix)\n",
        "identity_matrix, diagonal_elements\n"
      ],
      "metadata": {
        "id": "S1aZIgqaWsYI"
      },
      "execution_count": null,
      "outputs": []
    },
    {
      "cell_type": "markdown",
      "source": [
        "19. Generate a NumPy array of 100 random integers between 0 and 1000. Find and display all prime numbers in this array?\n",
        "\n"
      ],
      "metadata": {
        "id": "6Up0t-yOW6mf"
      }
    },
    {
      "cell_type": "code",
      "source": [
        "import numpy as np\n",
        "\n",
        "# Generate a NumPy array of 100 random integers between 0 and 1000\n",
        "random_integers = np.random.randint(0, 1001, 100)\n",
        "\n",
        "# Function to check if a number is prime\n",
        "def is_prime(n):\n",
        "    if n <= 1:\n",
        "        return False\n",
        "    for i in range(2, int(n**0.5) + 1):\n",
        "        if n % i == 0:\n",
        "            return False\n",
        "    return True\n",
        "\n",
        "# Find and display all prime numbers in the array\n",
        "prime_numbers = [num for num in random_integers if is_prime(num)]\n",
        "prime_numbers\n"
      ],
      "metadata": {
        "id": "-x-bA7Z8XEF_"
      },
      "execution_count": null,
      "outputs": []
    },
    {
      "cell_type": "markdown",
      "source": [
        "20. Create a NumPy array representing daily temperatures for a month. Calculate and display the weekly  averages?\n",
        "\n"
      ],
      "metadata": {
        "id": "6a0jL3hNWQPX"
      }
    },
    {
      "cell_type": "code",
      "source": [
        "import numpy as np\n",
        "\n",
        "# Create a NumPy array representing daily temperatures for a month (30 days)\n",
        "# Generating random temperatures between a plausible range (e.g., 15 to 30 degrees Celsius)\n",
        "np.random.seed(0)  # For reproducibility\n",
        "daily_temperatures = np.random.randint(15, 31, size=30)\n",
        "\n",
        "# Reshape to 4 weeks (7 days each) and calculate weekly averages\n",
        "weekly_temperatures = daily_temperatures.reshape(4, 7)\n",
        "weekly_averages = weekly_temperatures.mean(axis=1)\n",
        "\n",
        "daily_temperatures, weekly_averages"
      ],
      "metadata": {
        "id": "vPj8nhrwXbJ3"
      },
      "execution_count": null,
      "outputs": []
    },
    {
      "cell_type": "code",
      "source": [],
      "metadata": {
        "id": "OYeFQ-_fXdTH"
      },
      "execution_count": null,
      "outputs": []
    }
  ]
}